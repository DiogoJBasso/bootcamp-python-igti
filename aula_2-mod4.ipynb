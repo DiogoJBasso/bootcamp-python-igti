{
  "nbformat": 4,
  "nbformat_minor": 0,
  "metadata": {
    "colab": {
      "name": "aula_2.ipynb",
      "provenance": [],
      "include_colab_link": true
    },
    "kernelspec": {
      "name": "python3",
      "display_name": "Python 3"
    }
  },
  "cells": [
    {
      "cell_type": "markdown",
      "metadata": {
        "id": "view-in-github",
        "colab_type": "text"
      },
      "source": [
        "<a href=\"https://colab.research.google.com/github/diogojorgebasso/bootcamp-python-igti/blob/main/aula_2-mod4.ipynb\" target=\"_parent\"><img src=\"https://colab.research.google.com/assets/colab-badge.svg\" alt=\"Open In Colab\"/></a>"
      ]
    },
    {
      "cell_type": "code",
      "metadata": {
        "id": "hkJTeawLnaX-",
        "colab": {
          "base_uri": "https://localhost:8080/"
        },
        "outputId": "d7d4c275-99dc-469a-df2e-8b8ad1365d38"
      },
      "source": [
        "#instalando o rx para o google colab\n",
        "!pip install rx"
      ],
      "execution_count": null,
      "outputs": [
        {
          "output_type": "stream",
          "text": [
            "Requirement already satisfied: rx in /usr/local/lib/python3.6/dist-packages (3.1.1)\n"
          ],
          "name": "stdout"
        }
      ]
    },
    {
      "cell_type": "code",
      "metadata": {
        "id": "Pueo66-bngdF",
        "colab": {
          "base_uri": "https://localhost:8080/"
        },
        "outputId": "e6bf11fa-b2f5-4082-b3bb-9601163b77bb"
      },
      "source": [
        "#programação reativa\n",
        "import rx\n",
        "import rx.operators as ops\n",
        "\n",
        "source = rx.from_iterable([1,2,3,4,5])\n",
        "#source = rx.from_iterable([1,2,'abc',4,5]) #observable\n",
        "\n",
        "disposable=source.pipe(\n",
        "    ops.map(lambda i:i-1),\n",
        "    ops.filter(lambda i:i%2==0),\n",
        ").subscribe( #observer\n",
        "    on_next=lambda i: print(\"on_next: {}\".format(i)),\n",
        "    on_completed=lambda: print(\"on_completed\"),\n",
        "    on_error=lambda e:print(\"on_error: {}\".format(e))\n",
        ")\n",
        "\n",
        "disposable.dispose()\n",
        "\n",
        "print(\"Fim\")"
      ],
      "execution_count": null,
      "outputs": [
        {
          "output_type": "stream",
          "text": [
            "on_next: 0\n",
            "on_next: 2\n",
            "on_next: 4\n",
            "on_completed\n",
            "Fim\n"
          ],
          "name": "stdout"
        }
      ]
    },
    {
      "cell_type": "code",
      "metadata": {
        "id": "qmrL5543TiBr"
      },
      "source": [
        "def subtrai_1(i):\n",
        "  return i-1"
      ],
      "execution_count": null,
      "outputs": []
    },
    {
      "cell_type": "code",
      "metadata": {
        "id": "e47hW6upVhoe"
      },
      "source": [
        "zapier"
      ],
      "execution_count": null,
      "outputs": []
    }
  ]
}